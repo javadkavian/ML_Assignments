{
 "cells": [
  {
   "cell_type": "code",
   "execution_count": 1,
   "metadata": {},
   "outputs": [],
   "source": [
    "import pandas as pd\n",
    "import seaborn as sns\n",
    "import numpy as np\n",
    "import matplotlib.pyplot as plt\n",
    "from sklearn.model_selection import train_test_split\n",
    "from sklearn.metrics import confusion_matrix\n",
    "from sklearn.naive_bayes import GaussianNB\n",
    "df = pd.read_csv(\"data/web-page-phishing.csv\")"
   ]
  },
  {
   "cell_type": "markdown",
   "metadata": {},
   "source": [
    "check for missing data"
   ]
  },
  {
   "cell_type": "code",
   "execution_count": 2,
   "metadata": {},
   "outputs": [
    {
     "name": "stdout",
     "output_type": "stream",
     "text": [
      "<class 'pandas.core.frame.DataFrame'>\n",
      "RangeIndex: 100077 entries, 0 to 100076\n",
      "Data columns (total 20 columns):\n",
      " #   Column          Non-Null Count   Dtype\n",
      "---  ------          --------------   -----\n",
      " 0   url_length      100077 non-null  int64\n",
      " 1   n_dots          100077 non-null  int64\n",
      " 2   n_hypens        100077 non-null  int64\n",
      " 3   n_underline     100077 non-null  int64\n",
      " 4   n_slash         100077 non-null  int64\n",
      " 5   n_questionmark  100077 non-null  int64\n",
      " 6   n_equal         100077 non-null  int64\n",
      " 7   n_at            100077 non-null  int64\n",
      " 8   n_and           100077 non-null  int64\n",
      " 9   n_exclamation   100077 non-null  int64\n",
      " 10  n_space         100077 non-null  int64\n",
      " 11  n_tilde         100077 non-null  int64\n",
      " 12  n_comma         100077 non-null  int64\n",
      " 13  n_plus          100077 non-null  int64\n",
      " 14  n_asterisk      100077 non-null  int64\n",
      " 15  n_hastag        100077 non-null  int64\n",
      " 16  n_dollar        100077 non-null  int64\n",
      " 17  n_percent       100077 non-null  int64\n",
      " 18  n_redirection   100077 non-null  int64\n",
      " 19  phishing        100077 non-null  int64\n",
      "dtypes: int64(20)\n",
      "memory usage: 15.3 MB\n"
     ]
    }
   ],
   "source": [
    "df.info()"
   ]
  },
  {
   "cell_type": "code",
   "execution_count": 3,
   "metadata": {},
   "outputs": [],
   "source": [
    "class NaiveBayes:\n",
    "    def fit(self, X, Y):\n",
    "        numberOfSamples, numberOfFeatures = X.shape\n",
    "        self.labels = np.unique(Y)\n",
    "        numberOfClasses = len(self.labels)\n",
    "        self.mean = np.zeros((numberOfClasses, numberOfFeatures), dtype=np.float64)\n",
    "        self.variance = np.zeros((numberOfClasses, numberOfFeatures), dtype=np.float64)\n",
    "        self.perior = np.zeros(numberOfClasses, dtype=np.float64)\n",
    "        \n",
    "        for index, i in enumerate(self.labels):\n",
    "            X_i = X[Y == i]\n",
    "            self.perior[index] = X_i.shape[0] / float(numberOfSamples)\n",
    "            self.mean[index, :] = X_i.mean(axis=0)\n",
    "            self.variance[index, :] = X_i.var(axis=0)\n",
    "\n",
    "    def gaussianPdf(self, index, x):\n",
    "        mean = self.mean[index]\n",
    "        var = self.variance[index]\n",
    "        return (np.exp(-((x - mean) ** 2) / (2 * var + 1e-9))) / (np.sqrt(2 * np.pi * var + 1e-9))\n",
    "\n",
    "    def findArgMax(self, x):\n",
    "        posteriors = []\n",
    "        for index, i in enumerate(self.labels):\n",
    "            prior = np.log(self.perior[index])\n",
    "            posterior = np.sum(np.log(self.gaussianPdf(index, x)))\n",
    "            posteriors.append(prior + posterior)  \n",
    "        return self.labels[np.argmax(posteriors)]\n",
    "\n",
    "    def predict(self, X):\n",
    "        return np.array([self.findArgMax(x) for x in X])\n",
    "    \n"
   ]
  },
  {
   "cell_type": "code",
   "execution_count": 4,
   "metadata": {},
   "outputs": [],
   "source": [
    "def evaluate_classification(y_pred, y_test):\n",
    "    truePositive = np.sum((y_pred == 1) & (y_test == 1))\n",
    "    falsePositive = np.sum((y_pred == 1) & (y_test == 0))\n",
    "    trueNegative = np.sum((y_pred == 0) & (y_test == 0))\n",
    "    falseNegative = np.sum((y_pred == 0) & (y_test == 1))\n",
    "\n",
    "    print(f\"Accuracy: {((trueNegative + truePositive)/len(y_test)):.4f}\")\n",
    "    print(f\"Precision: {((truePositive) / (truePositive + falsePositive)):.4f}\")\n",
    "    print(f\"Recall: {((truePositive) / (truePositive + falseNegative)):.4f}\")\n",
    "    print(\"Confusion Matrix:\")\n",
    "    conf_matrix = np.array([[truePositive, falseNegative], [falsePositive, trueNegative]])\n",
    "    sns.heatmap(conf_matrix, square=True, annot=True, fmt='d', cbar=False, xticklabels=[\"YES\", \"NO\"], yticklabels=[\"YES\", \"NO\"])\n",
    "    plt.ylabel('true label')\n",
    "    plt.xlabel('predicted label')"
   ]
  },
  {
   "cell_type": "markdown",
   "metadata": {},
   "source": [
    "No missing data.Also all of the data are numerical, though no more preprocessing is required.Lets train the model"
   ]
  },
  {
   "cell_type": "code",
   "execution_count": 5,
   "metadata": {},
   "outputs": [],
   "source": [
    "Y = df['phishing'].to_numpy()\n",
    "X = df.drop(['phishing'], axis=1).to_numpy()"
   ]
  },
  {
   "cell_type": "code",
   "execution_count": 6,
   "metadata": {},
   "outputs": [
    {
     "name": "stderr",
     "output_type": "stream",
     "text": [
      "C:\\Users\\javadpsk\\AppData\\Local\\Temp\\ipykernel_11208\\223283406.py:25: RuntimeWarning: divide by zero encountered in log\n",
      "  posterior = np.sum(np.log(self.gaussianPdf(index, x)))\n"
     ]
    },
    {
     "name": "stdout",
     "output_type": "stream",
     "text": [
      "Accuracy: 0.7053\n",
      "Precision: 0.9126\n",
      "Recall: 0.2129\n",
      "Confusion Matrix:\n"
     ]
    },
    {
     "data": {
      "image/png": "[encoded data removed]",
      "text/plain": [
       "<Figure size 640x480 with 1 Axes>"
      ]
     },
     "metadata": {},
     "output_type": "display_data"
    }
   ],
   "source": [
    "X_train, X_test, y_train, y_test = train_test_split(\n",
    "        X, Y, test_size=0.2\n",
    ")\n",
    "nb = NaiveBayes()\n",
    "nb.fit(X_train, y_train)\n",
    "prediction = nb.predict(X_test)\n",
    "evaluate_classification(prediction, y_test)"
   ]
  },
  {
   "cell_type": "code",
   "execution_count": 7,
   "metadata": {},
   "outputs": [
    {
     "name": "stdout",
     "output_type": "stream",
     "text": [
      "Accuracy: 0.7165\n",
      "Precision: 0.8976\n",
      "Recall: 0.2519\n",
      "Confusion Matrix:\n"
     ]
    },
    {
     "data": {
      "image/png": "[encoded data removed]",
      "text/plain": [
       "<Figure size 640x480 with 1 Axes>"
      ]
     },
     "metadata": {},
     "output_type": "display_data"
    }
   ],
   "source": [
    "clf = GaussianNB()  \n",
    "\n",
    "clf.fit(X_train, y_train)\n",
    "y_pred = clf.predict(X_test)\n",
    "evaluate_classification(y_pred, y_test)"
   ]
  }
 ],
 "metadata": {
  "kernelspec": {
   "display_name": "Python 3",
   "language": "python",
   "name": "python3"
  },
  "language_info": {
   "codemirror_mode": {
    "name": "ipython",
    "version": 3
   },
   "file_extension": ".py",
   "mimetype": "text/x-python",
   "name": "python",
   "nbconvert_exporter": "python",
   "pygments_lexer": "ipython3",
   "version": "3.9.12"
  }
 },
 "nbformat": 4,
 "nbformat_minor": 2
}
