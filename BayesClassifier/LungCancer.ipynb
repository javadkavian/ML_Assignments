{
 "cells": [
  {
   "cell_type": "markdown",
   "metadata": {},
   "source": [
    "Loading data set"
   ]
  },
  {
   "cell_type": "code",
   "execution_count": 1,
   "metadata": {},
   "outputs": [],
   "source": [
    "import pandas as pd\n",
    "import seaborn as sns\n",
    "import numpy as np\n",
    "import matplotlib.pyplot as plt\n",
    "from sklearn.model_selection import train_test_split\n",
    "from sklearn.metrics import confusion_matrix\n",
    "from sklearn.naive_bayes import GaussianNB\n",
    "from sklearn.metrics import confusion_matrix, precision_score, recall_score, accuracy_score\n",
    "df = pd.read_csv(\"data/survey lung cancer.csv\")"
   ]
  },
  {
   "cell_type": "markdown",
   "metadata": {},
   "source": [
    "Checking wether we have missing value"
   ]
  },
  {
   "cell_type": "code",
   "execution_count": 2,
   "metadata": {},
   "outputs": [
    {
     "data": {
      "text/plain": [
       "14"
      ]
     },
     "execution_count": 2,
     "metadata": {},
     "output_type": "execute_result"
    }
   ],
   "source": [
    "len(df[df.values == 'x'])"
   ]
  },
  {
   "cell_type": "markdown",
   "metadata": {},
   "source": [
    "We have 14 missing values.As it is not a great number, we can easily drop the rows which have missing data"
   ]
  },
  {
   "cell_type": "code",
   "execution_count": 3,
   "metadata": {},
   "outputs": [],
   "source": [
    "df.drop(df[df.values == 'x'].index, inplace=True)"
   ]
  },
  {
   "cell_type": "markdown",
   "metadata": {},
   "source": [
    "Next we need to encode last and first column to numeric.We encode YES as 2 and NO as 1 and 1 as man and 2 as woman"
   ]
  },
  {
   "cell_type": "code",
   "execution_count": 4,
   "metadata": {},
   "outputs": [],
   "source": [
    "df[\"LUNG_CANCER\"].replace({\"YES\" : 2, \"NO\":1}, inplace=True)\n",
    "df[\"GENDER\"].replace({\"M\" : 1, \"F\" : 2}, inplace=True)\n",
    "df = df.astype('int64')"
   ]
  },
  {
   "cell_type": "markdown",
   "metadata": {},
   "source": [
    "No we have to visulaize features to select best feature set to train model"
   ]
  },
  {
   "cell_type": "code",
   "execution_count": 5,
   "metadata": {},
   "outputs": [],
   "source": [
    "palette = {1 : 'blue', 2 : 'red'}\n",
    "# sns.pairplot(df, vars=df.columns[0:14], hue=\"LUNG_CANCER\", palette=palette)"
   ]
  },
  {
   "cell_type": "markdown",
   "metadata": {},
   "source": [
    "We observe that for example age has a good contribution to label.But here we use all features to train the model"
   ]
  },
  {
   "cell_type": "code",
   "execution_count": 6,
   "metadata": {},
   "outputs": [],
   "source": [
    "Y = df[\"LUNG_CANCER\"].to_numpy()\n",
    "X = df.drop([\"LUNG_CANCER\"], axis = 1).to_numpy()"
   ]
  },
  {
   "cell_type": "markdown",
   "metadata": {},
   "source": [
    "Now we make a classifier class which implements naive bayes classifier."
   ]
  },
  {
   "cell_type": "code",
   "execution_count": 7,
   "metadata": {},
   "outputs": [],
   "source": [
    "class NaiveBayes:\n",
    "    def fit(self, X, Y):\n",
    "        numberOfSamples, numberOfFeatures = X.shape\n",
    "        self.labels = np.unique(Y)\n",
    "        numberOfClasses = len(self.labels)\n",
    "        self.mean = np.zeros((numberOfClasses, numberOfFeatures), dtype=np.float64)\n",
    "        self.variance = np.zeros((numberOfClasses, numberOfFeatures), dtype=np.float64)\n",
    "        self.perior = np.zeros(numberOfClasses, dtype=np.float64)\n",
    "        \n",
    "        for index, i in enumerate(self.labels):\n",
    "            X_i = X[Y == i]\n",
    "            self.perior[index] = X_i.shape[0] / float(numberOfSamples)\n",
    "            self.mean[index, :] = X_i.mean(axis=0)\n",
    "            self.variance[index, :] = X_i.var(axis=0)\n",
    "\n",
    "    def gaussianPdf(self, index, x):\n",
    "        mean = self.mean[index]\n",
    "        var = self.variance[index]\n",
    "        return (np.exp(-((x - mean) ** 2) / (2 * var))) / (np.sqrt(2 * np.pi * var))\n",
    "\n",
    "    def findArgMax(self, x):\n",
    "        posteriors = []\n",
    "        for index, i in enumerate(self.labels):\n",
    "            prior = np.log(self.perior[index])\n",
    "            posterior = np.sum(np.log(self.gaussianPdf(index, x)))\n",
    "            posteriors.append(prior + posterior)\n",
    "        return self.labels[np.argmax(posteriors)]\n",
    "\n",
    "    def predict(self, X):\n",
    "        return np.array([self.findArgMax(x) for x in X])\n"
   ]
  },
  {
   "cell_type": "markdown",
   "metadata": {},
   "source": [
    "evalutaion function"
   ]
  },
  {
   "cell_type": "code",
   "execution_count": 8,
   "metadata": {},
   "outputs": [],
   "source": [
    "def evaluate_classification(y_pred, y_test):\n",
    "    truePositive = np.sum((y_pred == 2) & (y_test == 2))\n",
    "    falsePositive = np.sum((y_pred == 2) & (y_test == 1))\n",
    "    trueNegative = np.sum((y_pred == 1) & (y_test == 1))\n",
    "    falseNegative = np.sum((y_pred == 1) & (y_test == 2))\n",
    "\n",
    "    print(f\"Accuracy: {((trueNegative + truePositive)/len(y_test)):.4f}\")\n",
    "    print(f\"Precision: {((truePositive) / (truePositive + falsePositive)):.4f}\")\n",
    "    print(f\"Recall: {((truePositive) / (truePositive + falseNegative)):.4f}\")\n",
    "    print(\"Confusion Matrix:\")\n",
    "    conf_matrix = np.array([[truePositive, falseNegative], [falsePositive, trueNegative]])\n",
    "    sns.heatmap(conf_matrix, square=True, annot=True, fmt='d', cbar=False, xticklabels=[\"YES\", \"NO\"], yticklabels=[\"YES\", \"NO\"])\n",
    "    plt.ylabel('true label')\n",
    "    plt.xlabel('predicted label')"
   ]
  },
  {
   "cell_type": "code",
   "execution_count": 9,
   "metadata": {},
   "outputs": [
    {
     "name": "stdout",
     "output_type": "stream",
     "text": [
      "Accuracy: 0.8305\n",
      "Precision: 0.9000\n",
      "Recall: 0.9000\n",
      "Confusion Matrix:\n"
     ]
    },
    {
     "data": {
      "image/png": "[encoded data removed]",
      "text/plain": [
       "<Figure size 640x480 with 1 Axes>"
      ]
     },
     "metadata": {},
     "output_type": "display_data"
    }
   ],
   "source": [
    "X_train, X_test, y_train, y_test = train_test_split(\n",
    "        X, Y, test_size=0.2, random_state=12\n",
    ")\n",
    "nb = NaiveBayes()\n",
    "nb.fit(X_train, y_train)\n",
    "prediction = nb.predict(X_test)\n",
    "evaluate_classification(prediction, y_test)"
   ]
  },
  {
   "cell_type": "code",
   "execution_count": 10,
   "metadata": {},
   "outputs": [
    {
     "name": "stdout",
     "output_type": "stream",
     "text": [
      "Accuracy: 0.8305\n",
      "Precision: 0.9000\n",
      "Recall: 0.9000\n",
      "Confusion Matrix:\n"
     ]
    },
    {
     "data": {
      "image/png": "[encoded data removed]",
      "text/plain": [
       "<Figure size 640x480 with 1 Axes>"
      ]
     },
     "metadata": {},
     "output_type": "display_data"
    }
   ],
   "source": [
    "\n",
    "clf = GaussianNB()  \n",
    "\n",
    "clf.fit(X_train, y_train)\n",
    "y_pred = clf.predict(X_test)\n",
    "evaluate_classification(y_pred, y_test)"
   ]
  },
  {
   "cell_type": "markdown",
   "metadata": {},
   "source": [
    "Note:definition of confusion matrix and precision and recall in sklearn is different from slides"
   ]
  }
 ],
 "metadata": {
  "kernelspec": {
   "display_name": "Python 3",
   "language": "python",
   "name": "python3"
  },
  "language_info": {
   "codemirror_mode": {
    "name": "ipython",
    "version": 3
   },
   "file_extension": ".py",
   "mimetype": "text/x-python",
   "name": "python",
   "nbconvert_exporter": "python",
   "pygments_lexer": "ipython3",
   "version": "3.9.12"
  }
 },
 "nbformat": 4,
 "nbformat_minor": 2
}
