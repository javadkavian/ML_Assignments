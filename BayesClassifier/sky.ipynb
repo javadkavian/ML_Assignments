{
 "cells": [
  {
   "cell_type": "code",
   "execution_count": 18,
   "metadata": {},
   "outputs": [
    {
     "name": "stdout",
     "output_type": "stream",
     "text": [
      "Algorithm accuracy: 67.50%\n"
     ]
    }
   ],
   "source": [
    "import os\n",
    "import cv2\n",
    "import numpy as np\n",
    "\n",
    "image_folder = 'data/Images'\n",
    "\n",
    "class_c_images = []\n",
    "class_s_images = []\n",
    "\n",
    "for filename in os.listdir(image_folder):\n",
    "    if filename.lower().startswith('c'):\n",
    "        class_c_images.append(filename)\n",
    "    elif filename.lower().startswith('s'):\n",
    "        class_s_images.append(filename)\n",
    "\n",
    "\n",
    "def classify_image_by_color(image_path, threshold=5):\n",
    "    img = cv2.imread(os.path.join(image_folder, image_path))\n",
    "    \n",
    "    hsv_img = cv2.cvtColor(img, cv2.COLOR_BGR2HSV)\n",
    "    \n",
    "    lower_yellow = np.array([20, 100, 100])\n",
    "    upper_yellow = np.array([40, 255, 255])\n",
    "    \n",
    "    yellow_mask = cv2.inRange(hsv_img, lower_yellow, upper_yellow)\n",
    "    \n",
    "    total_pixels = img.shape[0] * img.shape[1]\n",
    "    yellow_pixels = np.sum(yellow_mask == 255)\n",
    "    yellow_percentage = (yellow_pixels / total_pixels) * 100\n",
    "    \n",
    "    if yellow_percentage >= threshold:\n",
    "        return 's'\n",
    "    else:\n",
    "        return 'c'\n",
    "\n",
    "correctly_classified = 0\n",
    "total_images = len(class_c_images) + len(class_s_images)\n",
    "\n",
    "for image_name in class_c_images + class_s_images:\n",
    "    predicted_class = classify_image_by_color(image_name)\n",
    "    actual_class = 's' if image_name.lower().startswith('s') else 'c'\n",
    "    \n",
    "    if predicted_class == actual_class:\n",
    "        correctly_classified += 1\n",
    "\n",
    "accuracy = (correctly_classified / total_images) * 100\n",
    "print(f\"Algorithm accuracy: {accuracy:.2f}%\")\n"
   ]
  }
 ],
 "metadata": {
  "kernelspec": {
   "display_name": "Python 3",
   "language": "python",
   "name": "python3"
  },
  "language_info": {
   "codemirror_mode": {
    "name": "ipython",
    "version": 3
   },
   "file_extension": ".py",
   "mimetype": "text/x-python",
   "name": "python",
   "nbconvert_exporter": "python",
   "pygments_lexer": "ipython3",
   "version": "3.9.12"
  }
 },
 "nbformat": 4,
 "nbformat_minor": 2
}
