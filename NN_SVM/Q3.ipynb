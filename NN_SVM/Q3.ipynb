{
 "cells": [
  {
   "cell_type": "code",
   "execution_count": 10,
   "metadata": {},
   "outputs": [],
   "source": [
    "import torch\n",
    "from torchvision import datasets\n",
    "from torchvision.transforms import ToTensor\n",
    "from torch.utils.data import DataLoader\n",
    "import torch.nn as nn\n",
    "import torch.nn.functional as F\n",
    "import torch.optim as opt\n",
    "import os"
   ]
  },
  {
   "cell_type": "code",
   "execution_count": 33,
   "metadata": {},
   "outputs": [
    {
     "name": "stdout",
     "output_type": "stream",
     "text": [
      "Device =  cuda\n"
     ]
    }
   ],
   "source": [
    "LEARNING_RATE = 0.001\n",
    "BATCH_SIZE = 4096\n",
    "N_EPOCHS = 40\n",
    "dataDirectory = 'dataSet'\n",
    "device = torch.device(\"cuda\" if torch.cuda.is_available() else \"cpu\")\n",
    "print(\"Device = \", device)"
   ]
  },
  {
   "cell_type": "code",
   "execution_count": 12,
   "metadata": {},
   "outputs": [],
   "source": [
    "if not os.path.exists(dataDirectory):\n",
    "    os.makedirs(dataDirectory)\n",
    "\n",
    "downLoad = False\n",
    "if not os.path.exists(os.path.join(dataDirectory, 'MNIST')):\n",
    "    downLoad = True\n",
    "trainData = datasets.MNIST(\n",
    "    root = dataDirectory,\n",
    "    train = True,\n",
    "    transform = ToTensor(),\n",
    "    download=downLoad\n",
    ")\n",
    "testData = datasets.MNIST(\n",
    "    root = dataDirectory,\n",
    "    train = False,\n",
    "    transform = ToTensor(),\n",
    "    download=downLoad\n",
    ")"
   ]
  },
  {
   "cell_type": "code",
   "execution_count": 13,
   "metadata": {},
   "outputs": [
    {
     "name": "stdout",
     "output_type": "stream",
     "text": [
      "train data :  torch.Size([60000, 28, 28])\n",
      "test data :  torch.Size([10000, 28, 28])\n"
     ]
    }
   ],
   "source": [
    "print(\"train data : \", trainData.data.shape)\n",
    "print(\"test data : \", testData.data.shape)"
   ]
  },
  {
   "cell_type": "code",
   "execution_count": 14,
   "metadata": {},
   "outputs": [
    {
     "data": {
      "text/plain": [
       "{'trainLoader': <torch.utils.data.dataloader.DataLoader at 0x191222afb80>,\n",
       " 'testLoader': <torch.utils.data.dataloader.DataLoader at 0x191222af040>}"
      ]
     },
     "execution_count": 14,
     "metadata": {},
     "output_type": "execute_result"
    }
   ],
   "source": [
    "loaders = {\n",
    "    'trainLoader' : DataLoader(\n",
    "        dataset=trainData, \n",
    "        batch_size=BATCH_SIZE,\n",
    "        shuffle=True,\n",
    "        num_workers=1\n",
    "    )\n",
    "    ,\n",
    "    'testLoader' : DataLoader(\n",
    "        dataset=testData, \n",
    "        batch_size=BATCH_SIZE,\n",
    "        shuffle=True,\n",
    "        num_workers=1\n",
    "    )\n",
    "}\n",
    "loaders"
   ]
  },
  {
   "cell_type": "code",
   "execution_count": 15,
   "metadata": {},
   "outputs": [],
   "source": [
    "def train(\n",
    "        model : nn.Module,\n",
    "        optimizer : opt.Adam,\n",
    "        lossFunction : nn.CrossEntropyLoss\n",
    "):\n",
    "        model.train()\n",
    "        for idx, (data, target) in enumerate(loaders['trainLoader']):\n",
    "            data, target = data.to(device), target.to(device)\n",
    "            optimizer.zero_grad()\n",
    "            output = model(data)\n",
    "            loss = lossFunction(output, target)\n",
    "            loss.backward()\n",
    "            optimizer.step()\n",
    "\n",
    "\n",
    "@torch.no_grad()\n",
    "def test(\n",
    "        model : nn.Module,\n",
    "        lossFunction : nn.CrossEntropyLoss\n",
    "):\n",
    "    model.eval()\n",
    "    testLoss = 0\n",
    "    correct = 0\n",
    "    for data, target in loaders['testLoader']:\n",
    "        data, target = data.to(device), target.to(device)\n",
    "        output = model(data)\n",
    "        testLoss += lossFunction(output, target).item()\n",
    "        pred = output.argmax(dim = 1, keepdim = True)\n",
    "        correct += pred.eq(target.view_as(pred)).sum().item()\n",
    "    testLoss /= len(loaders['testLoader'].dataset)\n",
    "    print(\"Accuracy : \", 100*correct / len(loaders['testLoader'].dataset))"
   ]
  },
  {
   "cell_type": "code",
   "execution_count": 16,
   "metadata": {},
   "outputs": [],
   "source": [
    "class MLP(nn.Module):\n",
    "    def __init__(self):\n",
    "        super(MLP, self).__init__()\n",
    "        self.fc1 = nn.Linear(784, 300)\n",
    "        self.fc2 = nn.Linear(300, 50)\n",
    "        self.fc3 = nn.Linear(50, 10)\n",
    "    def forward(self, x):\n",
    "        x = x.view(-1, 784)\n",
    "        x = F.relu(self.fc1(x))\n",
    "        x = F.relu(self.fc2(x))\n",
    "        x = self.fc3(x)\n",
    "        return F.softmax(x, dim=1)"
   ]
  },
  {
   "cell_type": "code",
   "execution_count": 17,
   "metadata": {},
   "outputs": [],
   "source": [
    "mlp = MLP().to(device=device)\n",
    "optimizer = opt.Adam(mlp.parameters(), lr=LEARNING_RATE)\n",
    "lossFunction = nn.CrossEntropyLoss()"
   ]
  },
  {
   "cell_type": "code",
   "execution_count": 18,
   "metadata": {},
   "outputs": [
    {
     "name": "stdout",
     "output_type": "stream",
     "text": [
      "Accuracy :  92.08\n"
     ]
    }
   ],
   "source": [
    "for _ in range(N_EPOCHS):\n",
    "    train(\n",
    "        model=mlp,\n",
    "        optimizer=optimizer,\n",
    "        lossFunction=lossFunction\n",
    "    )\n",
    "test(\n",
    "    model=mlp,\n",
    "    lossFunction=lossFunction\n",
    ")   \n",
    "    "
   ]
  },
  {
   "cell_type": "code",
   "execution_count": 30,
   "metadata": {},
   "outputs": [],
   "source": [
    "class CNN(nn.Module):\n",
    "    def __init__(self):\n",
    "        super(CNN, self).__init__()\n",
    "        self.activation = F.relu\n",
    "        self.conv1 = nn.Conv2d(1, 6, 5, padding=2)\n",
    "        self.pool1 = nn.AvgPool2d(2, 2)\n",
    "        self.conv2 = nn.Conv2d(6, 16, 5)\n",
    "        self.pool2 = nn.AvgPool2d(2, 2)\n",
    "\n",
    "        self.fc1 = nn.Linear(400, 120)\n",
    "        self.fc2 = nn.Linear(120, 84)\n",
    "        self.fc3 = nn.Linear(84, 10)\n",
    "\n",
    "    def forward(self, x):\n",
    "        x = self.pool1(self.activation(self.conv1(x)))\n",
    "        x = self.pool2(self.activation(self.conv2(x)))\n",
    "        x = x.view(-1, 400)\n",
    "        x = self.activation(self.fc1(x))\n",
    "        x = self.activation(self.fc2(x))\n",
    "        x = self.fc3(x)\n",
    "        return F.softmax(x, dim=1)\n",
    "        "
   ]
  },
  {
   "cell_type": "code",
   "execution_count": 36,
   "metadata": {},
   "outputs": [],
   "source": [
    "cnn = CNN().to(device=device)\n",
    "optimizer2 = opt.Adam(cnn.parameters(), lr=0.001)\n",
    "lossFunction2 = nn.CrossEntropyLoss()"
   ]
  },
  {
   "cell_type": "code",
   "execution_count": 37,
   "metadata": {},
   "outputs": [
    {
     "name": "stdout",
     "output_type": "stream",
     "text": [
      "Accuracy :  11.35\n",
      "Accuracy :  11.35\n",
      "Accuracy :  11.35\n",
      "Accuracy :  11.35\n",
      "Accuracy :  11.35\n",
      "Accuracy :  11.91\n",
      "Accuracy :  20.96\n",
      "Accuracy :  26.79\n",
      "Accuracy :  29.47\n",
      "Accuracy :  34.88\n",
      "Accuracy :  42.83\n",
      "Accuracy :  49.13\n",
      "Accuracy :  53.22\n",
      "Accuracy :  60.31\n",
      "Accuracy :  62.76\n",
      "Accuracy :  64.2\n",
      "Accuracy :  68.2\n",
      "Accuracy :  69.94\n",
      "Accuracy :  71.0\n",
      "Accuracy :  71.51\n",
      "Accuracy :  72.33\n",
      "Accuracy :  72.83\n",
      "Accuracy :  73.13\n",
      "Accuracy :  73.44\n",
      "Accuracy :  73.9\n",
      "Accuracy :  74.19\n",
      "Accuracy :  74.48\n",
      "Accuracy :  78.16\n",
      "Accuracy :  79.87\n",
      "Accuracy :  80.57\n",
      "Accuracy :  81.73\n",
      "Accuracy :  82.21\n",
      "Accuracy :  82.51\n",
      "Accuracy :  82.82\n",
      "Accuracy :  83.06\n",
      "Accuracy :  83.54\n",
      "Accuracy :  83.74\n",
      "Accuracy :  84.04\n",
      "Accuracy :  84.36\n",
      "Accuracy :  84.55\n"
     ]
    }
   ],
   "source": [
    "for _ in range(N_EPOCHS):\n",
    "    train(\n",
    "        model=cnn,\n",
    "        optimizer=optimizer2,\n",
    "        lossFunction=lossFunction2\n",
    "    )\n",
    "    test(\n",
    "        model=cnn,\n",
    "        lossFunction=lossFunction2\n",
    "    )"
   ]
  }
 ],
 "metadata": {
  "kernelspec": {
   "display_name": "Python 3",
   "language": "python",
   "name": "python3"
  },
  "language_info": {
   "codemirror_mode": {
    "name": "ipython",
    "version": 3
   },
   "file_extension": ".py",
   "mimetype": "text/x-python",
   "name": "python",
   "nbconvert_exporter": "python",
   "pygments_lexer": "ipython3",
   "version": "3.9.12"
  }
 },
 "nbformat": 4,
 "nbformat_minor": 2
}
