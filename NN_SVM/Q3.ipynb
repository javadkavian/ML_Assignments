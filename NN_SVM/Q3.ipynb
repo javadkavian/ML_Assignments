{
 "cells": [
  {
   "cell_type": "code",
   "execution_count": 35,
   "metadata": {},
   "outputs": [],
   "source": [
    "import torch\n",
    "from torchvision import datasets\n",
    "from torchvision.transforms import ToTensor\n",
    "from torch.utils.data import DataLoader\n",
    "import torch.nn as nn\n",
    "import torch.nn.functional as F\n",
    "import torch.optim as opt\n",
    "import os"
   ]
  },
  {
   "cell_type": "code",
   "execution_count": 36,
   "metadata": {},
   "outputs": [
    {
     "name": "stdout",
     "output_type": "stream",
     "text": [
      "Device =  cuda\n"
     ]
    }
   ],
   "source": [
    "LEARNING_RATE = 0.001\n",
    "BATCH_SIZE = 4096\n",
    "N_EPOCHS = 40\n",
    "dataDirectory = 'dataSet'\n",
    "device = torch.device(\"cuda\" if torch.cuda.is_available() else \"cpu\")\n",
    "print(\"Device = \", device)"
   ]
  },
  {
   "cell_type": "code",
   "execution_count": 37,
   "metadata": {},
   "outputs": [],
   "source": [
    "if not os.path.exists(dataDirectory):\n",
    "    os.makedirs(dataDirectory)\n",
    "\n",
    "downLoad = False\n",
    "if not os.path.exists(os.path.join(dataDirectory, 'MNIST')):\n",
    "    downLoad = True\n",
    "trainData = datasets.MNIST(\n",
    "    root = dataDirectory,\n",
    "    train = True,\n",
    "    transform = ToTensor(),\n",
    "    download=downLoad\n",
    ")\n",
    "testData = datasets.MNIST(\n",
    "    root = dataDirectory,\n",
    "    train = False,\n",
    "    transform = ToTensor(),\n",
    "    download=downLoad\n",
    ")"
   ]
  },
  {
   "cell_type": "code",
   "execution_count": 38,
   "metadata": {},
   "outputs": [
    {
     "name": "stdout",
     "output_type": "stream",
     "text": [
      "train data :  torch.Size([60000, 28, 28])\n",
      "test data :  torch.Size([10000, 28, 28])\n"
     ]
    }
   ],
   "source": [
    "print(\"train data : \", trainData.data.shape)\n",
    "print(\"test data : \", testData.data.shape)"
   ]
  },
  {
   "cell_type": "code",
   "execution_count": 39,
   "metadata": {},
   "outputs": [
    {
     "data": {
      "text/plain": [
       "{'trainLoader': <torch.utils.data.dataloader.DataLoader at 0x1b7ca773940>,\n",
       " 'testLoader': <torch.utils.data.dataloader.DataLoader at 0x1b7ca773ac0>}"
      ]
     },
     "execution_count": 39,
     "metadata": {},
     "output_type": "execute_result"
    }
   ],
   "source": [
    "loaders = {\n",
    "    'trainLoader' : DataLoader(\n",
    "        dataset=trainData, \n",
    "        batch_size=BATCH_SIZE,\n",
    "        shuffle=True,\n",
    "        num_workers=1\n",
    "    )\n",
    "    ,\n",
    "    'testLoader' : DataLoader(\n",
    "        dataset=testData, \n",
    "        batch_size=BATCH_SIZE,\n",
    "        shuffle=True,\n",
    "        num_workers=1\n",
    "    )\n",
    "}\n",
    "loaders"
   ]
  },
  {
   "cell_type": "code",
   "execution_count": 40,
   "metadata": {},
   "outputs": [],
   "source": [
    "def train(\n",
    "        model : nn.Module,\n",
    "        optimizer : opt.Adam,\n",
    "        lossFunction : nn.CrossEntropyLoss\n",
    "):\n",
    "        model.train()\n",
    "        for idx, (data, target) in enumerate(loaders['trainLoader']):\n",
    "            data, target = data.to(device), target.to(device)\n",
    "            optimizer.zero_grad()\n",
    "            output = model(data)\n",
    "            loss = lossFunction(output, target)\n",
    "            loss.backward()\n",
    "            optimizer.step()\n",
    "\n",
    "\n",
    "@torch.no_grad()\n",
    "def test(\n",
    "        model : nn.Module,\n",
    "        lossFunction : nn.CrossEntropyLoss\n",
    "):\n",
    "    model.eval()\n",
    "    testLoss = 0\n",
    "    correct = 0\n",
    "    for data, target in loaders['testLoader']:\n",
    "        data, target = data.to(device), target.to(device)\n",
    "        output = model(data)\n",
    "        testLoss += lossFunction(output, target).item()\n",
    "        pred = output.argmax(dim = 1, keepdim = True)\n",
    "        correct += pred.eq(target.view_as(pred)).sum().item()\n",
    "    testLoss /= len(loaders['testLoader'].dataset)\n",
    "    print(\"Accuracy : \", 100*correct / len(loaders['testLoader'].dataset))"
   ]
  },
  {
   "cell_type": "code",
   "execution_count": 41,
   "metadata": {},
   "outputs": [],
   "source": [
    "class MLP(nn.Module):\n",
    "    def __init__(self):\n",
    "        super(MLP, self).__init__()\n",
    "        self.fc1 = nn.Linear(784, 300)\n",
    "        self.fc2 = nn.Linear(300, 50)\n",
    "        self.fc3 = nn.Linear(50, 10)\n",
    "    def forward(self, x):\n",
    "        x = x.view(-1, 784)\n",
    "        x = F.relu(self.fc1(x))\n",
    "        x = F.relu(self.fc2(x))\n",
    "        x = self.fc3(x)\n",
    "        return F.softmax(x, dim=1)"
   ]
  },
  {
   "cell_type": "code",
   "execution_count": 42,
   "metadata": {},
   "outputs": [],
   "source": [
    "mlp = MLP().to(device=device)\n",
    "optimizer = opt.Adam(mlp.parameters(), lr=LEARNING_RATE)\n",
    "lossFunction = nn.CrossEntropyLoss()"
   ]
  },
  {
   "cell_type": "code",
   "execution_count": 43,
   "metadata": {},
   "outputs": [
    {
     "name": "stdout",
     "output_type": "stream",
     "text": [
      "Accuracy :  96.24\n"
     ]
    }
   ],
   "source": [
    "for _ in range(N_EPOCHS):\n",
    "    train(\n",
    "        model=mlp,\n",
    "        optimizer=optimizer,\n",
    "        lossFunction=lossFunction\n",
    "    )\n",
    "test(\n",
    "    model=mlp,\n",
    "    lossFunction=lossFunction\n",
    ")   \n",
    "    "
   ]
  }
 ],
 "metadata": {
  "kernelspec": {
   "display_name": "Python 3",
   "language": "python",
   "name": "python3"
  },
  "language_info": {
   "codemirror_mode": {
    "name": "ipython",
    "version": 3
   },
   "file_extension": ".py",
   "mimetype": "text/x-python",
   "name": "python",
   "nbconvert_exporter": "python",
   "pygments_lexer": "ipython3",
   "version": "3.9.12"
  }
 },
 "nbformat": 4,
 "nbformat_minor": 2
}
