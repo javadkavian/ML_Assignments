{
 "cells": [
  {
   "cell_type": "code",
   "execution_count": 22,
   "metadata": {},
   "outputs": [],
   "source": [
    "import torch\n",
    "from torchvision import datasets\n",
    "from torchvision.transforms import ToTensor\n",
    "from torch.utils.data import DataLoader\n",
    "import torch.nn as nn\n",
    "import torch.nn.functional as F\n",
    "import torch.optim as opt\n",
    "import os\n",
    "import matplotlib.pyplot as plt\n",
    "import numpy as np"
   ]
  },
  {
   "cell_type": "code",
   "execution_count": 43,
   "metadata": {},
   "outputs": [
    {
     "name": "stdout",
     "output_type": "stream",
     "text": [
      "Device =  cuda\n"
     ]
    }
   ],
   "source": [
    "LEARNING_RATE = 0.001\n",
    "BATCH_SIZE = 4096\n",
    "N_EPOCHS = 7\n",
    "dataDirectory = 'dataSet'\n",
    "device = torch.device(\"cuda\" if torch.cuda.is_available() else \"cpu\")\n",
    "print(\"Device = \", device)"
   ]
  },
  {
   "cell_type": "code",
   "execution_count": 4,
   "metadata": {},
   "outputs": [],
   "source": [
    "if not os.path.exists(dataDirectory):\n",
    "    os.makedirs(dataDirectory)\n",
    "\n",
    "downLoad = False\n",
    "if not os.path.exists(os.path.join(dataDirectory, 'MNIST')):\n",
    "    downLoad = True\n",
    "trainData = datasets.MNIST(\n",
    "    root = dataDirectory,\n",
    "    train = True,\n",
    "    transform = ToTensor(),\n",
    "    download=downLoad\n",
    ")\n",
    "testData = datasets.MNIST(\n",
    "    root = dataDirectory,\n",
    "    train = False,\n",
    "    transform = ToTensor(),\n",
    "    download=downLoad\n",
    ")"
   ]
  },
  {
   "cell_type": "code",
   "execution_count": 5,
   "metadata": {},
   "outputs": [
    {
     "name": "stdout",
     "output_type": "stream",
     "text": [
      "train data :  torch.Size([60000, 28, 28])\n",
      "test data :  torch.Size([10000, 28, 28])\n"
     ]
    }
   ],
   "source": [
    "print(\"train data : \", trainData.data.shape)\n",
    "print(\"test data : \", testData.data.shape)"
   ]
  },
  {
   "cell_type": "code",
   "execution_count": 6,
   "metadata": {},
   "outputs": [
    {
     "data": {
      "text/plain": [
       "{'trainLoader': <torch.utils.data.dataloader.DataLoader at 0x29ba5f044f0>,\n",
       " 'testLoader': <torch.utils.data.dataloader.DataLoader at 0x29bd7c9c4c0>}"
      ]
     },
     "execution_count": 6,
     "metadata": {},
     "output_type": "execute_result"
    }
   ],
   "source": [
    "loaders = {\n",
    "    'trainLoader' : DataLoader(\n",
    "        dataset=trainData, \n",
    "        batch_size=BATCH_SIZE,\n",
    "        shuffle=True,\n",
    "        num_workers=1\n",
    "    )\n",
    "    ,\n",
    "    'testLoader' : DataLoader(\n",
    "        dataset=testData, \n",
    "        batch_size=BATCH_SIZE,\n",
    "        shuffle=True,\n",
    "        num_workers=1\n",
    "    )\n",
    "}\n",
    "loaders"
   ]
  },
  {
   "cell_type": "code",
   "execution_count": 7,
   "metadata": {},
   "outputs": [],
   "source": [
    "def train(\n",
    "        model : nn.Module,\n",
    "        optimizer : opt.Adam,\n",
    "        lossFunction : nn.CrossEntropyLoss\n",
    "):\n",
    "        model.train()\n",
    "        for idx, (data, target) in enumerate(loaders['trainLoader']):\n",
    "            data, target = data.to(device), target.to(device)\n",
    "            optimizer.zero_grad()\n",
    "            output = model(data)\n",
    "            loss = lossFunction(output, target)\n",
    "            loss.backward()\n",
    "            optimizer.step()\n",
    "\n",
    "\n",
    "@torch.no_grad()\n",
    "def test(\n",
    "        model : nn.Module,\n",
    "        lossFunction : nn.CrossEntropyLoss\n",
    "):\n",
    "    model.eval()\n",
    "    testLoss = 0\n",
    "    correct = 0\n",
    "    for data, target in loaders['testLoader']:\n",
    "        data, target = data.to(device), target.to(device)\n",
    "        output = model(data)\n",
    "        testLoss += lossFunction(output, target).item()\n",
    "        pred = output.argmax(dim = 1, keepdim = True)\n",
    "        correct += pred.eq(target.view_as(pred)).sum().item()\n",
    "    testLoss /= len(loaders['testLoader'].dataset)\n",
    "    print(\"Accuracy : \", 100*correct / len(loaders['testLoader'].dataset))"
   ]
  },
  {
   "cell_type": "code",
   "execution_count": 46,
   "metadata": {},
   "outputs": [],
   "source": [
    "class MLP(nn.Module):\n",
    "    def __init__(self):\n",
    "        super(MLP, self).__init__()\n",
    "        self.fc1 = nn.Linear(784, 300)\n",
    "        # self.bn1 = nn.BatchNorm1d(300)\n",
    "        self.fc2 = nn.Linear(300, 50)\n",
    "        # self.bn2 = nn.BatchNorm1d(50)\n",
    "        self.fc3 = nn.Linear(50, 10)\n",
    "        # self.dropout = nn.Dropout(p=0.5)\n",
    "\n",
    "    def forward(self, x):\n",
    "        x = x.view(-1, 784)\n",
    "        x = F.relu(self.fc1(x))\n",
    "        x = F.relu(self.fc2(x))\n",
    "        x = self.fc3(x)\n",
    "        return F.softmax(x, dim=1)\n"
   ]
  },
  {
   "cell_type": "code",
   "execution_count": 47,
   "metadata": {},
   "outputs": [],
   "source": [
    "mlp = MLP().to(device=device)\n",
    "optimizer = opt.Adam(mlp.parameters(), lr=LEARNING_RATE)\n",
    "lossFunction = nn.CrossEntropyLoss()"
   ]
  },
  {
   "cell_type": "code",
   "execution_count": 48,
   "metadata": {},
   "outputs": [
    {
     "name": "stdout",
     "output_type": "stream",
     "text": [
      "Accuracy :  91.8\n"
     ]
    }
   ],
   "source": [
    "for _ in range(N_EPOCHS):\n",
    "    train(\n",
    "        model=mlp,\n",
    "        optimizer=optimizer,\n",
    "        lossFunction=lossFunction\n",
    "    )\n",
    "test(\n",
    "    model=mlp,\n",
    "    lossFunction=lossFunction\n",
    ")   \n",
    "    "
   ]
  },
  {
   "cell_type": "code",
   "execution_count": 10,
   "metadata": {},
   "outputs": [],
   "source": [
    "class CNN(nn.Module):\n",
    "    def __init__(self):\n",
    "        super(CNN, self).__init__()\n",
    "        self.conv1 = nn.Conv2d(1, 6, 5, padding=2)\n",
    "        self.bn1 = nn.BatchNorm2d(6)\n",
    "        self.pool1 = nn.AvgPool2d(2, 2)\n",
    "        self.conv2 = nn.Conv2d(6, 16, 5)\n",
    "        self.bn2 = nn.BatchNorm2d(16)\n",
    "        self.pool2 = nn.AvgPool2d(2, 2)\n",
    "\n",
    "        self.fc1 = nn.Linear(400, 120)\n",
    "        self.bn3 = nn.BatchNorm1d(120)\n",
    "        self.fc2 = nn.Linear(120, 84)\n",
    "        self.bn4 = nn.BatchNorm1d(84)\n",
    "        self.fc3 = nn.Linear(84, 10)\n",
    "        self.dropout = nn.Dropout(p=0.5)\n",
    "\n",
    "    def forward(self, x):\n",
    "        x = self.pool1(F.sigmoid(self.bn1(self.conv1(x))))\n",
    "        x = self.pool2(F.sigmoid(self.bn2(self.conv2(x))))\n",
    "        x = x.view(-1, 400)\n",
    "        x = self.dropout(F.sigmoid(self.bn3(self.fc1(x))))\n",
    "        x = self.dropout(F.sigmoid(self.bn4(self.fc2(x))))\n",
    "        x = self.fc3(x)\n",
    "        return x"
   ]
  },
  {
   "cell_type": "code",
   "execution_count": 11,
   "metadata": {},
   "outputs": [],
   "source": [
    "cnn = CNN().to(device=device)\n",
    "optimizer2 = opt.Adam(cnn.parameters(), lr=0.001)\n",
    "lossFunction2 = nn.CrossEntropyLoss()"
   ]
  },
  {
   "cell_type": "code",
   "execution_count": 12,
   "metadata": {},
   "outputs": [
    {
     "name": "stdout",
     "output_type": "stream",
     "text": [
      "Accuracy :  10.32\n",
      "Accuracy :  65.56\n",
      "Accuracy :  72.19\n",
      "Accuracy :  51.4\n",
      "Accuracy :  83.75\n",
      "Accuracy :  87.8\n",
      "Accuracy :  83.12\n",
      "Accuracy :  86.19\n",
      "Accuracy :  92.4\n",
      "Accuracy :  94.6\n",
      "Accuracy :  96.14\n",
      "Accuracy :  96.28\n",
      "Accuracy :  96.35\n",
      "Accuracy :  96.72\n",
      "Accuracy :  96.81\n"
     ]
    }
   ],
   "source": [
    "for _ in range(N_EPOCHS):\n",
    "    train(\n",
    "        model=cnn,\n",
    "        optimizer=optimizer2,\n",
    "        lossFunction=lossFunction2\n",
    "    )\n",
    "    test(\n",
    "        model=cnn,\n",
    "        lossFunction=lossFunction2\n",
    "    )"
   ]
  },
  {
   "cell_type": "code",
   "execution_count": 28,
   "metadata": {},
   "outputs": [],
   "source": [
    "def shift_image(image, shiftBy = 2):\n",
    "    image = image.numpy().squeeze()\n",
    "    shifted_image = np.zeros_like(image)\n",
    "    if shiftBy > 0:\n",
    "        shifted_image[:, shiftBy:] = image[:, :-shiftBy]\n",
    "    else:\n",
    "        shifted_image[:, :shiftBy] = image[:, -shiftBy:]\n",
    "    return torch.Tensor(shifted_image).unsqueeze(0)        "
   ]
  },
  {
   "cell_type": "code",
   "execution_count": 20,
   "metadata": {},
   "outputs": [],
   "source": [
    "dataIterator = iter(loaders['testLoader'])\n",
    "images, labels = dataIterator._next_data()"
   ]
  },
  {
   "cell_type": "code",
   "execution_count": 54,
   "metadata": {},
   "outputs": [
    {
     "data": {
      "image/png": "[encoded data removed]",
      "text/plain": [
       "<Figure size 800x400 with 2 Axes>"
      ]
     },
     "metadata": {},
     "output_type": "display_data"
    }
   ],
   "source": [
    "plt.figure(figsize=(8, 4))\n",
    "plt.subplot(1, 2, 1)\n",
    "plt.imshow(images[2].numpy().squeeze(), cmap='gray')\n",
    "plt.title('Original Image')\n",
    "plt.subplot(1, 2, 2)\n",
    "plt.imshow(shift_image(images[2], 7).squeeze(), cmap='gray')\n",
    "plt.title('Shifted Image')\n",
    "plt.show()"
   ]
  },
  {
   "cell_type": "code",
   "execution_count": 55,
   "metadata": {},
   "outputs": [
    {
     "name": "stdout",
     "output_type": "stream",
     "text": [
      "Prediction of CNN :  6\n"
     ]
    }
   ],
   "source": [
    "cnnOutput = cnn(images[2].unsqueeze(0).to(device))\n",
    "_, cnn_pred = torch.max(cnnOutput, 1)\n",
    "print(\"Prediction of CNN : \", cnn_pred.item())"
   ]
  },
  {
   "cell_type": "code",
   "execution_count": 57,
   "metadata": {},
   "outputs": [
    {
     "name": "stdout",
     "output_type": "stream",
     "text": [
      "Prediction of MLP :  4\n"
     ]
    }
   ],
   "source": [
    "mlpOutput = mlp(images[2].unsqueeze(0).to(device))\n",
    "_, mlp_pred = torch.max(mlpOutput, 1)\n",
    "print(\"Prediction of MLP : \", mlp_pred.item())"
   ]
  }
 ],
 "metadata": {
  "kernelspec": {
   "display_name": "Python 3",
   "language": "python",
   "name": "python3"
  },
  "language_info": {
   "codemirror_mode": {
    "name": "ipython",
    "version": 3
   },
   "file_extension": ".py",
   "mimetype": "text/x-python",
   "name": "python",
   "nbconvert_exporter": "python",
   "pygments_lexer": "ipython3",
   "version": "3.9.12"
  }
 },
 "nbformat": 4,
 "nbformat_minor": 2
}
