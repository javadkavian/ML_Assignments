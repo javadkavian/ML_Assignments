{
 "cells": [
  {
   "cell_type": "code",
   "execution_count": 13,
   "metadata": {},
   "outputs": [
    {
     "name": "stdout",
     "output_type": "stream",
     "text": [
      "     pcost       dcost       gap    pres   dres\n",
      " 0: -3.4375e-01 -5.6562e+00  2e+01  2e+00  3e-15\n",
      " 1: -1.2503e-01 -2.5067e+00  2e+00  3e-16  7e-16\n",
      " 2: -2.3152e-01 -3.7572e-01  1e-01  1e-16  1e-15\n",
      " 3: -2.4668e-01 -2.5853e-01  1e-02  7e-17  2e-15\n",
      " 4: -2.4958e-01 -2.5051e-01  9e-04  3e-16  1e-15\n",
      " 5: -2.4994e-01 -2.5007e-01  1e-04  2e-16  9e-16\n",
      " 6: -2.4999e-01 -2.5001e-01  2e-05  1e-16  6e-16\n",
      " 7: -2.5000e-01 -2.5000e-01  2e-06  2e-16  5e-16\n",
      " 8: -2.5000e-01 -2.5000e-01  4e-07  1e-16  7e-16\n",
      " 9: -2.5000e-01 -2.5000e-01  5e-08  3e-16  9e-16\n",
      "Optimal solution found.\n",
      "Optimal alpha values: [1.51091117e-04 2.49848909e-01 2.50000000e-01 5.40790814e-10]\n",
      "Weight vector (w): [-0.50015109 -0.49984891]\n",
      "Bias (b): 3.499748186039259\n"
     ]
    }
   ],
   "source": [
    "import numpy as np\n",
    "import cvxopt\n",
    "\n",
    "# Sample data (features and labels)\n",
    "X = np.array([[1, 4], [2, 3], [4, 5], [5, 6]])\n",
    "y = np.array([1,1, -1, -1])\n",
    "\n",
    "# Number of samples and features\n",
    "m, n = X.shape\n",
    "\n",
    "# Compute the kernel matrix (linear kernel)\n",
    "K = np.dot(X, X.T)\n",
    "\n",
    "# Parameters\n",
    "C = 1.0  # Regularization parameter\n",
    "\n",
    "# Convert data to cvxopt format\n",
    "P = cvxopt.matrix(np.outer(y, y) * K, tc='d')\n",
    "q = cvxopt.matrix(-np.ones(m), tc='d')\n",
    "G = cvxopt.matrix(np.vstack((-np.eye(m), np.eye(m))), tc='d')\n",
    "h = cvxopt.matrix(np.hstack((np.zeros(m), C * np.ones(m))), tc='d')\n",
    "A = cvxopt.matrix(y, (1, m), tc='d')\n",
    "b = cvxopt.matrix(0.0)\n",
    "\n",
    "# Solve the quadratic programming problem using cvxopt\n",
    "solution = cvxopt.solvers.qp(P, q, G, h, A, b)\n",
    "\n",
    "# Extract the Lagrange multipliers\n",
    "alpha = np.ravel(solution['x'])\n",
    "\n",
    "# Compute the weight vector\n",
    "w = np.sum(alpha[:, None] * y[:, None] * X, axis=0)\n",
    "\n",
    "# Identify support vectors\n",
    "support_vectors = np.where(alpha > 1e-4)[0]\n",
    "\n",
    "# Compute the bias\n",
    "b = np.mean(y[support_vectors] - np.dot(X[support_vectors], w))\n",
    "\n",
    "print(\"Optimal alpha values:\", alpha)\n",
    "print(\"Weight vector (w):\", w)\n",
    "print(\"Bias (b):\", b)\n"
   ]
  },
  {
   "cell_type": "code",
   "execution_count": 14,
   "metadata": {},
   "outputs": [
    {
     "name": "stdout",
     "output_type": "stream",
     "text": [
      "Weight vector (w): [-0.5 -0.5]\n",
      "Bias (b): 3.499999999999999\n"
     ]
    }
   ],
   "source": [
    "import numpy as np\n",
    "from sklearn.svm import SVC\n",
    "\n",
    "# Sample data (features and labels)\n",
    "X = np.array([[1, 4], [2, 3], [4, 5], [5, 6]])\n",
    "y = np.array([1, 1, -1, -1])\n",
    "\n",
    "# Create and train the SVM model\n",
    "model = SVC(kernel='linear', C=1.0)\n",
    "model.fit(X, y)\n",
    "\n",
    "# Get the weight vector and bias\n",
    "w = model.coef_[0]\n",
    "b = model.intercept_[0]\n",
    "\n",
    "print(\"Weight vector (w):\", w)\n",
    "print(\"Bias (b):\", b)\n"
   ]
  }
 ],
 "metadata": {
  "kernelspec": {
   "display_name": "Python 3",
   "language": "python",
   "name": "python3"
  },
  "language_info": {
   "codemirror_mode": {
    "name": "ipython",
    "version": 3
   },
   "file_extension": ".py",
   "mimetype": "text/x-python",
   "name": "python",
   "nbconvert_exporter": "python",
   "pygments_lexer": "ipython3",
   "version": "3.9.12"
  }
 },
 "nbformat": 4,
 "nbformat_minor": 2
}
