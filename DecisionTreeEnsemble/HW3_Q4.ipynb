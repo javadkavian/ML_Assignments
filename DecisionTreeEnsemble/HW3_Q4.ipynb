{
  "cells": [
    {
      "cell_type": "code",
      "execution_count": 2,
      "metadata": {
        "id": "41ByKBEm2FFE"
      },
      "outputs": [],
      "source": [
        "from sklearn.base import BaseEstimator, ClassifierMixin, clone\n",
        "from sklearn.datasets import load_iris\n",
        "from sklearn.model_selection import train_test_split\n",
        "from sklearn.metrics import accuracy_score\n",
        "from sklearn.tree import DecisionTreeClassifier\n",
        "from sklearn.preprocessing import LabelEncoder\n",
        "import numpy as np\n",
        "import pandas as pd"
      ]
    },
    {
      "cell_type": "code",
      "execution_count": 95,
      "metadata": {
        "id": "80eGYDq72Icw"
      },
      "outputs": [],
      "source": [
        "class SimpleMultiClassBoosting(BaseEstimator, ClassifierMixin):\n",
        "    def __init__(self, base_estimator=None, n_estimators=50):\n",
        "        self.base_estimator = base_estimator if base_estimator is not None else DecisionTreeClassifier(max_depth=1)\n",
        "        self.n_estimators = n_estimators\n",
        "        self.learners = []\n",
        "        self.learner_weights = []\n",
        "        self.label_encoder = LabelEncoder()\n",
        "\n",
        "    def fit(self, X, y):\n",
        "        # Convert labels to [0, n_classes-1]\n",
        "        Y = self.label_encoder.fit_transform(y)\n",
        "        n_classes = len(np.unique(Y))\n",
        "        # Initialize weights uniformly\n",
        "        n_samples = X.shape[0]\n",
        "        self.weights = (1/n_samples) * np.ones(n_samples, dtype=float)\n",
        "        for _ in range(self.n_estimators):\n",
        "            learner = DecisionTreeClassifier(max_depth=1)\n",
        "            learner.fit(X, Y, sample_weight=self.weights)\n",
        "            pred = learner.predict(X)\n",
        "            missClassified = pred != y\n",
        "            learner_error = np.sum(self.weights[missClassified]) / np.sum(self.weights)\n",
        "            print(learner_error)\n",
        "            # Compute weighted error rate (misclassification rate)\n",
        "            learner_weight = np.log((1-learner_error) / learner_error) + np.log(n_classes - 1)\n",
        "            # Compute learner weight using SAMME algorithm\n",
        "\n",
        "            if learner_error >= 1 - (1 / n_classes):\n",
        "                break\n",
        "\n",
        "            # Increase the weights of misclassified samples\n",
        "            for idx in range(n_samples):\n",
        "                if missClassified[idx] == True:\n",
        "                    self.weights[idx] *= np.exp(learner_weight)    \n",
        "            self.weights /= np.sum(self.weights)    \n",
        "            # Save the current learner\n",
        "            self.learners.append(learner)\n",
        "            self.learner_weights.append(learner_weight)\n",
        "\n",
        "    def predict(self, X):\n",
        "        # Collect predictions from each learner\n",
        "\n",
        "        # Weighted vote for each sample's prediction across all learners\n",
        "\n",
        "        # Final prediction is the one with the highest weighted vote\n",
        "\n",
        "        # Convert back to original class labels\n",
        "        predictionsOfLearners = []\n",
        "        for learner in self.learners:\n",
        "            predictionsOfLearners.append(learner.predict(X))\n",
        "        predictionsOfLearners = np.array(predictionsOfLearners)\n",
        "        prediction = np.empty(X.shape[0])        \n",
        "        for i in range(X.shape[0]):\n",
        "            labels = np.unique(predictionsOfLearners[:, i])\n",
        "            votes = {label : 0 for label in labels}\n",
        "            for j in range(len(predictionsOfLearners[:, i])):\n",
        "                for label in labels:\n",
        "                    if predictionsOfLearners[j, i] == label:\n",
        "                        votes[label] += self.learner_weights[j]\n",
        "            finalPrediction = max(votes, key=votes.get)\n",
        "            prediction[i] = self.label_encoder.inverse_transform(np.array([finalPrediction]))\n",
        "        return prediction\n"
      ]
    },
    {
      "cell_type": "code",
      "execution_count": 18,
      "metadata": {},
      "outputs": [
        {
          "data": {
            "text/html": [
              "<div>\n",
              "<style scoped>\n",
              "    .dataframe tbody tr th:only-of-type {\n",
              "        vertical-align: middle;\n",
              "    }\n",
              "\n",
              "    .dataframe tbody tr th {\n",
              "        vertical-align: top;\n",
              "    }\n",
              "\n",
              "    .dataframe thead th {\n",
              "        text-align: right;\n",
              "    }\n",
              "</style>\n",
              "<table border=\"1\" class=\"dataframe\">\n",
              "  <thead>\n",
              "    <tr style=\"text-align: right;\">\n",
              "      <th></th>\n",
              "      <th>sepal length (cm)</th>\n",
              "      <th>sepal width (cm)</th>\n",
              "      <th>petal length (cm)</th>\n",
              "      <th>petal width (cm)</th>\n",
              "      <th>target</th>\n",
              "    </tr>\n",
              "  </thead>\n",
              "  <tbody>\n",
              "    <tr>\n",
              "      <th>0</th>\n",
              "      <td>5.1</td>\n",
              "      <td>3.5</td>\n",
              "      <td>1.4</td>\n",
              "      <td>0.2</td>\n",
              "      <td>0.0</td>\n",
              "    </tr>\n",
              "    <tr>\n",
              "      <th>1</th>\n",
              "      <td>4.9</td>\n",
              "      <td>3.0</td>\n",
              "      <td>1.4</td>\n",
              "      <td>0.2</td>\n",
              "      <td>0.0</td>\n",
              "    </tr>\n",
              "    <tr>\n",
              "      <th>2</th>\n",
              "      <td>4.7</td>\n",
              "      <td>3.2</td>\n",
              "      <td>1.3</td>\n",
              "      <td>0.2</td>\n",
              "      <td>0.0</td>\n",
              "    </tr>\n",
              "    <tr>\n",
              "      <th>3</th>\n",
              "      <td>4.6</td>\n",
              "      <td>3.1</td>\n",
              "      <td>1.5</td>\n",
              "      <td>0.2</td>\n",
              "      <td>0.0</td>\n",
              "    </tr>\n",
              "    <tr>\n",
              "      <th>4</th>\n",
              "      <td>5.0</td>\n",
              "      <td>3.6</td>\n",
              "      <td>1.4</td>\n",
              "      <td>0.2</td>\n",
              "      <td>0.0</td>\n",
              "    </tr>\n",
              "  </tbody>\n",
              "</table>\n",
              "</div>"
            ],
            "text/plain": [
              "   sepal length (cm)  sepal width (cm)  petal length (cm)  petal width (cm)  \\\n",
              "0                5.1               3.5                1.4               0.2   \n",
              "1                4.9               3.0                1.4               0.2   \n",
              "2                4.7               3.2                1.3               0.2   \n",
              "3                4.6               3.1                1.5               0.2   \n",
              "4                5.0               3.6                1.4               0.2   \n",
              "\n",
              "   target  \n",
              "0     0.0  \n",
              "1     0.0  \n",
              "2     0.0  \n",
              "3     0.0  \n",
              "4     0.0  "
            ]
          },
          "execution_count": 18,
          "metadata": {},
          "output_type": "execute_result"
        }
      ],
      "source": [
        "iris = load_iris()\n",
        "df = pd.DataFrame(data=np.c_[iris['data'], iris['target']], columns=iris['feature_names'] + ['target'])\n",
        "df.head()"
      ]
    },
    {
      "cell_type": "code",
      "execution_count": 73,
      "metadata": {},
      "outputs": [],
      "source": [
        "X_train, X_test, Y_train, Y_test = train_test_split(df.iloc[:, :-1].to_numpy(), df.iloc[:, -1].to_numpy(), test_size=0.2, random_state=42)"
      ]
    },
    {
      "cell_type": "code",
      "execution_count": 96,
      "metadata": {},
      "outputs": [
        {
          "name": "stdout",
          "output_type": "stream",
          "text": [
            "0.32500000000000023\n",
            "0.18581829692940816\n",
            "0.12491488735987881\n",
            "0.2634006663297185\n",
            "0.1705713068098068\n",
            "0.15338144166126846\n",
            "0.3018000494584266\n",
            "0.19759964963833307\n",
            "0.23989307969899254\n",
            "0.2923565307552004\n",
            "0.26043915582752286\n",
            "0.14724732677712646\n",
            "0.25947684533181675\n",
            "0.27252734894196573\n",
            "0.30547158288221943\n",
            "0.29430175351792454\n",
            "0.24880935630761938\n",
            "0.25210016520492967\n",
            "0.35809837351013407\n",
            "0.22094842913424811\n",
            "0.35654992076021946\n",
            "0.227299256601732\n",
            "0.25298390542317023\n",
            "0.3094757042107903\n",
            "0.2751459933081308\n",
            "0.2230733666498616\n",
            "0.320670908376389\n",
            "0.2887891370992855\n",
            "0.31245616991264175\n",
            "0.2894173611823568\n",
            "0.22975093898891885\n",
            "0.288506969330827\n",
            "0.2401463884170762\n",
            "0.29462695638674635\n",
            "0.29438210282190935\n",
            "0.26700683818104365\n",
            "0.2549891583734744\n",
            "0.35600973710893846\n",
            "0.2821296276884286\n",
            "0.2696812360491574\n",
            "0.27022560332429146\n",
            "0.30899296715094055\n",
            "0.26338608371369104\n",
            "0.26256484333792873\n",
            "0.31549983822241356\n",
            "0.2335035059775038\n",
            "0.259481750651754\n",
            "0.30009013608754037\n",
            "0.32002090584134024\n",
            "0.2927479649300975\n"
          ]
        }
      ],
      "source": [
        "m = SimpleMultiClassBoosting()\n",
        "m.fit(X_train, Y_train)"
      ]
    },
    {
      "cell_type": "code",
      "execution_count": 97,
      "metadata": {},
      "outputs": [
        {
          "data": {
            "text/plain": [
              "array([1., 0., 2., 1., 1., 0., 1., 2., 2., 1., 1., 0., 0., 0., 0., 1., 2.,\n",
              "       1., 1., 2., 0., 2., 0., 2., 2., 2., 2., 2., 0., 0.])"
            ]
          },
          "execution_count": 97,
          "metadata": {},
          "output_type": "execute_result"
        }
      ],
      "source": [
        "prediction = m.predict(X_test)\n",
        "prediction"
      ]
    },
    {
      "cell_type": "code",
      "execution_count": 98,
      "metadata": {},
      "outputs": [
        {
          "name": "stdout",
          "output_type": "stream",
          "text": [
            "[1.4240346891027367, 2.170561446089358, 2.639835729512814, 1.721514960937093, 2.2747308918393885, 2.401469527859688, 1.5318879941819428, 2.094511841622896, 1.8464129657291326, 1.577113519708257, 1.7368344697422455, 2.4495030686278154, 1.7418366121269213, 1.6749846136945377, 1.5145235033971005, 1.5677293002828503, 1.7981196873318779, 1.7805897493570746, 1.2767745077474575, 1.9532951036544404, 1.283517367413939, 1.9167715572845565, 1.775908039303081, 1.4957187496653785, 1.66181560350281, 1.9409923877147932, 1.44383747202999, 1.5944193462987593, 1.481808557862806, 1.591362629463538, 1.9028652507352972, 1.595793559994896, 1.8450242898142992, 1.566163981809293, 1.5673424564506098, 1.7030092841330329, 1.7653249232803097, 1.2858727049080287, 1.627069555377835, 1.6893876280319098, 1.6866254433145942, 1.4979786654508649, 1.7215901223564782, 1.7258272679719417, 1.4676778924171834, 1.881780212963689, 1.7418110835021503, 1.5400158583187902, 1.4468229099591712, 1.5752222172869053]\n"
          ]
        }
      ],
      "source": [
        "print(m.learner_weights)"
      ]
    },
    {
      "cell_type": "code",
      "execution_count": 99,
      "metadata": {},
      "outputs": [
        {
          "name": "stdout",
          "output_type": "stream",
          "text": [
            "              precision    recall  f1-score   support\n",
            "\n",
            "         0.0       1.00      1.00      1.00        10\n",
            "         1.0       0.89      0.89      0.89         9\n",
            "         2.0       0.91      0.91      0.91        11\n",
            "\n",
            "    accuracy                           0.93        30\n",
            "   macro avg       0.93      0.93      0.93        30\n",
            "weighted avg       0.93      0.93      0.93        30\n",
            "\n"
          ]
        }
      ],
      "source": [
        "from sklearn.metrics import classification_report\n",
        "print(classification_report(Y_test, prediction))"
      ]
    }
  ],
  "metadata": {
    "colab": {
      "provenance": []
    },
    "kernelspec": {
      "display_name": "Python 3",
      "name": "python3"
    },
    "language_info": {
      "codemirror_mode": {
        "name": "ipython",
        "version": 3
      },
      "file_extension": ".py",
      "mimetype": "text/x-python",
      "name": "python",
      "nbconvert_exporter": "python",
      "pygments_lexer": "ipython3",
      "version": "3.9.12"
    }
  },
  "nbformat": 4,
  "nbformat_minor": 0
}
