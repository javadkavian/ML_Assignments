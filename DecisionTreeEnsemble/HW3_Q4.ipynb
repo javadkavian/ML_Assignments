{
  "nbformat": 4,
  "nbformat_minor": 0,
  "metadata": {
    "colab": {
      "provenance": []
    },
    "kernelspec": {
      "name": "python3",
      "display_name": "Python 3"
    },
    "language_info": {
      "name": "python"
    }
  },
  "cells": [
    {
      "cell_type": "code",
      "execution_count": null,
      "metadata": {
        "id": "41ByKBEm2FFE"
      },
      "outputs": [],
      "source": [
        "from sklearn.base import BaseEstimator, ClassifierMixin, clone\n",
        "from sklearn.datasets import load_iris\n",
        "from sklearn.model_selection import train_test_split\n",
        "from sklearn.metrics import accuracy_score\n",
        "from sklearn.tree import DecisionTreeClassifier\n",
        "from sklearn.preprocessing import LabelEncoder\n",
        "import numpy as np"
      ]
    },
    {
      "cell_type": "code",
      "source": [
        "class SimpleMultiClassBoosting(BaseEstimator, ClassifierMixin):\n",
        "    def __init__(self, base_estimator=None, n_estimators=50):\n",
        "        self.base_estimator = base_estimator if base_estimator is not None else DecisionTreeClassifier(max_depth=1)\n",
        "        self.n_estimators = n_estimators\n",
        "        self.learners = []\n",
        "        self.learner_weights = []\n",
        "        self.label_encoder = LabelEncoder()\n",
        "\n",
        "    def fit(self, X, y):\n",
        "        # Convert labels to [0, n_classes-1]\n",
        "\n",
        "        # Initialize weights uniformly\n",
        "\n",
        "        for _ in range(self.n_estimators):\n",
        "\n",
        "            # Compute weighted error rate (misclassification rate)\n",
        "\n",
        "            # Compute learner weight using SAMME algorithm\n",
        "\n",
        "            if learner_error >= 1 - (1 / n_classes):\n",
        "                break  # Stop if the learner is no better than random guessing\n",
        "\n",
        "            # Increase the weights of misclassified samples\n",
        "\n",
        "            # Save the current learner\n",
        "            self.learners.append(learner)\n",
        "            self.learner_weights.append(learner_weight)\n",
        "\n",
        "    def predict(self, X):\n",
        "        # Collect predictions from each learner\n",
        "\n",
        "        # Weighted vote for each sample's prediction across all learners\n",
        "\n",
        "        # Final prediction is the one with the highest weighted vote\n",
        "\n",
        "        # Convert back to original class labels\n",
        ""
      ],
      "metadata": {
        "id": "80eGYDq72Icw"
      },
      "execution_count": null,
      "outputs": []
    }
  ]
}