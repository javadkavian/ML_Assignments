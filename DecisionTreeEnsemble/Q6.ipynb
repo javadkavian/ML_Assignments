{
 "cells": [
  {
   "cell_type": "code",
   "execution_count": 1,
   "metadata": {},
   "outputs": [],
   "source": [
    "import numpy as np\n",
    "import pandas as pd"
   ]
  },
  {
   "cell_type": "code",
   "execution_count": null,
   "metadata": {},
   "outputs": [],
   "source": [
    "class MyDecisionTree:\n",
    "    def __init__(self, df):\n",
    "        self.df = df\n",
    "        self.prediction = None\n",
    "        self.childs = None\n",
    "        self.root = None\n",
    "        self.labelsOfRoot = None\n",
    "    def __fit__(self):\n",
    "        if self.df.columns.size != 1:\n",
    "            if len(np.unique(self.df.iloc[:, -1].to_numpy)) == 1:\n",
    "                self.prediction = np.unique(self.df.iloc[:, -1].to_numpy)[0]\n",
    "            else:\n",
    "                self.root = self.find_best_feature()\n",
    "                self.labelsOfRoot = np.unique(self.df[self.root].to_numpy())\n",
    "                self.childs = np.empty((len(self.labelsOfRoot), ), dtype=object)\n",
    "                for index, label in enumerate(self.labelsOfRoot):\n",
    "                    self.childs[index] = MyDecisionTree(self.df[self.df[self.root] == label].drop(columns = self.root))\n",
    "                    self.childs[index].__fit__()\n",
    "        else:\n",
    "            self.prediction = self.majority_vote()\n",
    "\n",
    "    def majority_vote(self):\n",
    "        pass        \n",
    "\n",
    "    def find_best_feature(self):\n",
    "        pass    "
   ]
  },
  {
   "cell_type": "code",
   "execution_count": 30,
   "metadata": {},
   "outputs": [
    {
     "data": {
      "text/plain": [
       "0    2\n",
       "1    2\n",
       "2    2\n",
       "3    2\n",
       "Name: b, dtype: int64"
      ]
     },
     "execution_count": 30,
     "metadata": {},
     "output_type": "execute_result"
    }
   ],
   "source": [
    "df = pd.read_csv('a.csv')\n",
    "df.drop(columns='a' ,inplace=True)\n",
    "df.drop(columns='c', inplace=True)\n",
    "df.iloc[:, -1]"
   ]
  },
  {
   "cell_type": "code",
   "execution_count": 9,
   "metadata": {},
   "outputs": [
    {
     "data": {
      "text/plain": [
       "3"
      ]
     },
     "execution_count": 9,
     "metadata": {},
     "output_type": "execute_result"
    }
   ],
   "source": [
    "a = np.array([1, 2, 3])\n",
    "len(a)"
   ]
  },
  {
   "cell_type": "code",
   "execution_count": 10,
   "metadata": {},
   "outputs": [
    {
     "name": "stdout",
     "output_type": "stream",
     "text": [
      "0   ali\n",
      "1   reza\n",
      "2   gholi\n"
     ]
    }
   ],
   "source": [
    "a = ['ali', 'reza', 'gholi']\n",
    "for i, j in enumerate(a):\n",
    "    print(i, \" \", j)"
   ]
  }
 ],
 "metadata": {
  "kernelspec": {
   "display_name": "Python 3",
   "language": "python",
   "name": "python3"
  },
  "language_info": {
   "codemirror_mode": {
    "name": "ipython",
    "version": 3
   },
   "file_extension": ".py",
   "mimetype": "text/x-python",
   "name": "python",
   "nbconvert_exporter": "python",
   "pygments_lexer": "ipython3",
   "version": "3.9.12"
  }
 },
 "nbformat": 4,
 "nbformat_minor": 2
}
