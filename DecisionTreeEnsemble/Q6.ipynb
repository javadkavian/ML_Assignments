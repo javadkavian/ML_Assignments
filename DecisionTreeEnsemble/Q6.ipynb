{
 "cells": [
  {
   "cell_type": "code",
   "execution_count": 2,
   "metadata": {},
   "outputs": [],
   "source": [
    "import numpy as np\n",
    "import pandas as pd"
   ]
  },
  {
   "cell_type": "code",
   "execution_count": 5,
   "metadata": {},
   "outputs": [],
   "source": [
    "class MyDecisionTree:\n",
    "    def __init__(self, df):\n",
    "        self.df = df\n",
    "        self.prediction = None\n",
    "        self.childs = None\n",
    "        self.root = None\n",
    "        self.labelsOfRoot = None\n",
    "    def __fit__(self):\n",
    "        if self.df.columns.size != 1:\n",
    "            if len(np.unique(self.df.iloc[:, -1].to_numpy)) == 1:\n",
    "                self.prediction = np.unique(self.df.iloc[:, -1].to_numpy)[0]\n",
    "            else:\n",
    "                self.root = self.find_best_feature()\n",
    "                self.labelsOfRoot = np.unique(self.df[self.root].to_numpy())\n",
    "                self.childs = np.empty((len(self.labelsOfRoot), ), dtype=object)\n",
    "                for index, label in enumerate(self.labelsOfRoot):\n",
    "                    self.childs[index] = MyDecisionTree(self.df[self.df[self.root] == label].drop(columns = self.root))\n",
    "                    self.childs[index].__fit__()\n",
    "        else:\n",
    "            self.prediction = self.majority_vote()\n",
    "\n",
    "    def majority_vote(self):\n",
    "        labels = self.df.iloc[:, -1].to_numpy()\n",
    "        return np.bincount(labels).argmax()\n",
    "        \n",
    "\n",
    "    def find_best_feature(self):\n",
    "        features = self.df.columns.to_numpy()[:-1]\n",
    "        enthropy = np.empty((len(features), ))\n",
    "        for index, feature in enumerate(features):\n",
    "            enthropy[index] = self.calc_entropy(feature)\n",
    "        return features[np.argmin(enthropy)]    \n",
    "    def calc_entropy(self, feature):\n",
    "        labels = np.unique(self.df[feature].to_numpy())\n",
    "        entropy = 0\n",
    "        for label in labels:\n",
    "            classDf = self.df[self.df[feature] == label]\n",
    "            entropy += (len(classDf) / len(self.df)) * self.calc_class_entropy(classDf)\n",
    "        return entropy    \n",
    "    def calc_class_entropy(self, classDf):\n",
    "        targets = classDf.iloc[:, -1].to_numpy()\n",
    "        labels = np.unique(targets)\n",
    "        perLabelEntropies = np.empty((len(labels), ))\n",
    "        for index, label in enumerate(labels):\n",
    "            labelCount = len(targets[targets == label])\n",
    "            entropy = -(labelCount / len(classDf)) * (np.log(-((labelCount / len(classDf)))))\n",
    "            perLabelEntropies[index] = entropy\n",
    "        return np.sum(perLabelEntropies)    \n",
    "    \n",
    "    def __predict__(self, x):\n",
    "        inputDict = {}\n",
    "        for index, column in enumerate(self.df.columns.to_numpy()):\n",
    "            inputDict[column] = x[index]\n",
    "        if self.prediction == None:\n",
    "            inputDict = {}\n",
    "            for index, column in enumerate(self.df.columns.to_numpy()):\n",
    "                inputDict[column] = x[index]\n",
    "            return self.childs[np.where(self.labelsOfRoot == inputDict[self.root])].__predict__(x)\n",
    "        else:\n",
    "            return self.prediction    \n",
    "            "
   ]
  }
 ],
 "metadata": {
  "kernelspec": {
   "display_name": "Python 3",
   "language": "python",
   "name": "python3"
  },
  "language_info": {
   "codemirror_mode": {
    "name": "ipython",
    "version": 3
   },
   "file_extension": ".py",
   "mimetype": "text/x-python",
   "name": "python",
   "nbconvert_exporter": "python",
   "pygments_lexer": "ipython3",
   "version": "3.9.12"
  }
 },
 "nbformat": 4,
 "nbformat_minor": 2
}
