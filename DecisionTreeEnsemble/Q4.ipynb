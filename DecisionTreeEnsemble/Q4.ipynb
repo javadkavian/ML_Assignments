{
  "cells": [
    {
      "cell_type": "code",
      "execution_count": 2,
      "metadata": {
        "id": "41ByKBEm2FFE"
      },
      "outputs": [],
      "source": [
        "from sklearn.base import BaseEstimator, ClassifierMixin, clone\n",
        "from sklearn.datasets import load_iris\n",
        "from sklearn.model_selection import train_test_split\n",
        "from sklearn.metrics import accuracy_score\n",
        "from sklearn.tree import DecisionTreeClassifier\n",
        "from sklearn.preprocessing import LabelEncoder\n",
        "import numpy as np\n",
        "import pandas as pd\n",
        "import random as rd"
      ]
    },
    {
      "cell_type": "code",
      "execution_count": 27,
      "metadata": {},
      "outputs": [],
      "source": [
        "class SimpleMultiClassBoosting(BaseEstimator, ClassifierMixin):\n",
        "    def __init__(self, base_estimator=None, n_estimators=50):\n",
        "        self.base_estimator = base_estimator if base_estimator is not None else DecisionTreeClassifier(max_depth=1)\n",
        "        self.n_estimators = n_estimators\n",
        "        self.learners = []\n",
        "        self.learner_weights = []\n",
        "        self.label_encoder = LabelEncoder()\n",
        "\n",
        "    def fit(self, X, y):\n",
        "        # Convert labels to [0, n_classes-1]\n",
        "        Y = self.label_encoder.fit_transform(y)\n",
        "        n_classes = len(np.unique(Y))\n",
        "        # Initialize weights uniformly\n",
        "        n_samples = X.shape[0]\n",
        "        self.weights = (1/n_samples) * np.ones(n_samples, dtype=float)\n",
        "        for _ in range(self.n_estimators):\n",
        "            learner = DecisionTreeClassifier(max_depth=2)\n",
        "            learner.fit(X, Y, sample_weight=self.weights)\n",
        "            pred = learner.predict(X)\n",
        "            missClassified = pred != y\n",
        "            learner_error = np.sum(self.weights[missClassified]) / np.sum(self.weights)\n",
        "            # Compute weighted error rate (misclassification rate)\n",
        "            learner_weight = np.log((1-learner_error) / learner_error) + np.log(n_classes - 1)\n",
        "            # Compute learner weight using SAMME algorithm\n",
        "            print(\"learning error : \", learner_error)\n",
        "            if learner_error >= 1 - (1 / n_classes):\n",
        "                continue\n",
        "\n",
        "            # Increase the weights of misclassified samples\n",
        "            for idx in range(n_samples):\n",
        "                if missClassified[idx] == True:\n",
        "                    self.weights[idx] *= np.exp(learner_weight)    \n",
        "            self.weights /= np.sum(self.weights)    \n",
        "            # Save the current learner\n",
        "            self.learners.append(learner)\n",
        "            self.learner_weights.append(learner_weight)\n",
        "\n",
        "    def predict(self, X):\n",
        "        # Collect predictions from each learner\n",
        "\n",
        "        # Weighted vote for each sample's prediction across all learners\n",
        "\n",
        "        # Final prediction is the one with the highest weighted vote\n",
        "\n",
        "        # Convert back to original class labels\n",
        "        predictionsOfLearners = []\n",
        "        for learner in self.learners:\n",
        "            predictionsOfLearners.append(learner.predict(X))\n",
        "        predictionsOfLearners = np.array(predictionsOfLearners)\n",
        "        prediction = np.empty(X.shape[0])        \n",
        "        for i in range(X.shape[0]):\n",
        "            labels = np.unique(predictionsOfLearners[:, i])\n",
        "            votes = {label : 0 for label in labels}\n",
        "            for j in range(len(predictionsOfLearners[:, i])):\n",
        "                for label in labels:\n",
        "                    if predictionsOfLearners[j, i] == label:\n",
        "                        votes[label] += self.learner_weights[j]\n",
        "            finalPrediction = max(votes, key=votes.get)\n",
        "            prediction[i] = self.label_encoder.inverse_transform(np.array([finalPrediction]))\n",
        "        return prediction\n"
      ]
    },
    {
      "cell_type": "code",
      "execution_count": 4,
      "metadata": {},
      "outputs": [
        {
          "data": {
            "text/html": [
              "<div>\n",
              "<style scoped>\n",
              "    .dataframe tbody tr th:only-of-type {\n",
              "        vertical-align: middle;\n",
              "    }\n",
              "\n",
              "    .dataframe tbody tr th {\n",
              "        vertical-align: top;\n",
              "    }\n",
              "\n",
              "    .dataframe thead th {\n",
              "        text-align: right;\n",
              "    }\n",
              "</style>\n",
              "<table border=\"1\" class=\"dataframe\">\n",
              "  <thead>\n",
              "    <tr style=\"text-align: right;\">\n",
              "      <th></th>\n",
              "      <th>x</th>\n",
              "      <th>y</th>\n",
              "      <th>z</th>\n",
              "    </tr>\n",
              "  </thead>\n",
              "  <tbody>\n",
              "    <tr>\n",
              "      <th>0</th>\n",
              "      <td>-0.5</td>\n",
              "      <td>-0.5</td>\n",
              "      <td>1</td>\n",
              "    </tr>\n",
              "    <tr>\n",
              "      <th>1</th>\n",
              "      <td>0.5</td>\n",
              "      <td>-0.5</td>\n",
              "      <td>0</td>\n",
              "    </tr>\n",
              "    <tr>\n",
              "      <th>2</th>\n",
              "      <td>-0.5</td>\n",
              "      <td>0.5</td>\n",
              "      <td>0</td>\n",
              "    </tr>\n",
              "    <tr>\n",
              "      <th>3</th>\n",
              "      <td>0.5</td>\n",
              "      <td>0.5</td>\n",
              "      <td>1</td>\n",
              "    </tr>\n",
              "  </tbody>\n",
              "</table>\n",
              "</div>"
            ],
            "text/plain": [
              "     x    y  z\n",
              "0 -0.5 -0.5  1\n",
              "1  0.5 -0.5  0\n",
              "2 -0.5  0.5  0\n",
              "3  0.5  0.5  1"
            ]
          },
          "execution_count": 4,
          "metadata": {},
          "output_type": "execute_result"
        }
      ],
      "source": [
        "df = pd.read_csv('a.csv')\n",
        "df"
      ]
    },
    {
      "cell_type": "code",
      "execution_count": 6,
      "metadata": {},
      "outputs": [],
      "source": [
        "X = df.iloc[:, :-1]\n",
        "Y = df.iloc[:, -1]"
      ]
    },
    {
      "cell_type": "code",
      "execution_count": 28,
      "metadata": {},
      "outputs": [
        {
          "name": "stdout",
          "output_type": "stream",
          "text": [
            "learning error :  0.0\n"
          ]
        },
        {
          "name": "stderr",
          "output_type": "stream",
          "text": [
            "C:\\Users\\javadpsk\\AppData\\Local\\Temp\\ipykernel_19568\\854684579.py:23: RuntimeWarning: divide by zero encountered in scalar divide\n",
            "  learner_weight = np.log((1-learner_error) / learner_error) + np.log(n_classes - 1)\n"
          ]
        }
      ],
      "source": [
        "for i in range(1, 2):    \n",
        "    m = SimpleMultiClassBoosting(n_estimators=i)\n",
        "    m.fit(X, Y)"
      ]
    }
  ],
  "metadata": {
    "colab": {
      "provenance": []
    },
    "kernelspec": {
      "display_name": "Python 3",
      "name": "python3"
    },
    "language_info": {
      "codemirror_mode": {
        "name": "ipython",
        "version": 3
      },
      "file_extension": ".py",
      "mimetype": "text/x-python",
      "name": "python",
      "nbconvert_exporter": "python",
      "pygments_lexer": "ipython3",
      "version": "3.9.12"
    }
  },
  "nbformat": 4,
  "nbformat_minor": 0
}
